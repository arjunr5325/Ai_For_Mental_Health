{
  "cells": [
    {
      "cell_type": "code",
      "execution_count": 1,
      "metadata": {
        "id": "I9ttCXmoKZ4-"
      },
      "outputs": [],
      "source": [
        "import pandas as pd\n",
        "import torch\n",
        "import numpy as np\n",
        "import torch.nn as nn\n",
        "import torch.optim as optim\n",
        "from sklearn.model_selection import train_test_split, RandomizedSearchCV\n",
        "from sklearn.preprocessing import StandardScaler\n",
        "from sklearn.metrics import accuracy_score, classification_report\n",
        "from torch.utils.data import DataLoader, TensorDataset, random_split\n",
        "import torch.nn.functional as F\n",
        "from sklearn.base import BaseEstimator, ClassifierMixin\n",
        "from tqdm import tqdm\n",
        "\n"
      ]
    },
    {
      "cell_type": "code",
      "execution_count": 2,
      "metadata": {
        "id": "Ju8YiDUbKZ4_"
      },
      "outputs": [],
      "source": [
        "df = pd.read_csv(\"Random_Forest_Dataset.csv\")\n",
        "df['Anxious_or_Depressed'] = df['Anxious_or_Depressed'].map({1: 1, 2: 0})\n",
        "\n",
        "\n",
        "X = df.drop(columns=['Anxious_or_Depressed'])\n",
        "y = df['Anxious_or_Depressed']\n",
        "\n",
        "\n",
        "X_train, X_test, y_train, y_test = train_test_split(X, y, test_size=0.2, random_state=42)"
      ]
    },
    {
      "cell_type": "code",
      "execution_count": 3,
      "metadata": {
        "id": "9qmBrKVLKZ5A"
      },
      "outputs": [],
      "source": [
        "X_train_tensor = torch.tensor(X_train.values, dtype=torch.float32)\n",
        "X_test_tensor = torch.tensor(X_test.values, dtype=torch.float32)\n",
        "y_train_tensor = torch.tensor(y_train.values, dtype=torch.long)\n",
        "y_test_tensor = torch.tensor(y_test.values, dtype=torch.long)\n",
        "\n",
        "train_dataset = TensorDataset(X_train_tensor, y_train_tensor)\n",
        "test_dataset = TensorDataset(X_test_tensor, y_test_tensor)\n",
        "\n",
        "\n",
        "batch_size = 32\n",
        "train_dataloader = DataLoader(train_dataset, batch_size=batch_size, shuffle=True)\n",
        "test_dataloader = DataLoader(test_dataset, batch_size=batch_size, shuffle=False)"
      ]
    },
    {
      "cell_type": "code",
      "execution_count": 4,
      "metadata": {
        "id": "8D1D3_f7KZ5A"
      },
      "outputs": [],
      "source": [
        "class NeuralNetwork(nn.Module):\n",
        "    def __init__(self, input_size, hidden_size, output_size):\n",
        "        super(NeuralNetwork, self).__init__()\n",
        "        self.fc1 = nn.Linear(input_size, hidden_size)\n",
        "        self.bn1 = nn.BatchNorm1d(hidden_size)\n",
        "        self.relu = nn.ReLU()\n",
        "        self.dropout = nn.Dropout(0.5)\n",
        "        self.fc2 = nn.Linear(hidden_size, output_size)\n",
        "\n",
        "    def forward(self, x):\n",
        "        x = self.fc1(x)\n",
        "        x = self.bn1(x)\n",
        "        x = self.relu(x)\n",
        "        x = self.dropout(x)\n",
        "        x = self.fc2(x)\n",
        "\n",
        "        return x\n",
        "\n",
        "\n",
        "class NeuralNetworkClassifier(BaseEstimator, ClassifierMixin):\n",
        "    def __init__(self, model, optimizer, criterion, epochs=10, batch_size=32):\n",
        "        self.model = model\n",
        "        self.optimizer = optimizer\n",
        "        self.criterion = criterion\n",
        "        self.epochs = epochs\n",
        "        self.batch_size = batch_size\n",
        "\n",
        "    def fit(self, X, y):\n",
        "        X_tensor = torch.FloatTensor(X)\n",
        "        y_tensor = torch.LongTensor(y)\n",
        "\n",
        "        dataset = torch.utils.data.TensorDataset(X_tensor, y_tensor)\n",
        "        dataloader = torch.utils.data.DataLoader(dataset, batch_size=self.batch_size, shuffle=True)\n",
        "\n",
        "        for epoch in range(self.epochs):\n",
        "            for inputs, labels in dataloader:\n",
        "                self.optimizer.zero_grad()\n",
        "                outputs = self.model(inputs)\n",
        "                loss = self.criterion(outputs, labels)\n",
        "                loss.backward()\n",
        "                self.optimizer.step()\n",
        "\n",
        "    def predict(self, X):\n",
        "        X_tensor = torch.FloatTensor(X)\n",
        "        with torch.no_grad():\n",
        "            outputs = torch.nn.functional.softmax(self.model(X_tensor), dim=1)\n",
        "        _, predicted = torch.max(outputs, 1)\n",
        "        return predicted.numpy()\n",
        "\n",
        "    def predict_proba(self, X):\n",
        "        X_tensor = torch.FloatTensor(X)\n",
        "        with torch.no_grad():\n",
        "            return torch.nn.functional.softmax(self.model(X_tensor), dim=1).numpy()\n",
        "\n",
        "\n",
        "scaler = StandardScaler()\n",
        "X_train_scaled = scaler.fit_transform(X_train)\n",
        "X_test_scaled = scaler.transform(X_test)\n",
        "\n",
        "input_size = len(X.columns)\n",
        "hidden_size = 128\n",
        "output_size = 2\n",
        "model_nn = NeuralNetwork(input_size, hidden_size, output_size)\n",
        "criterion = nn.CrossEntropyLoss()\n",
        "optimizer = optim.Adam(model_nn.parameters(), lr=0.001)\n",
        "scheduler = optim.lr_scheduler.StepLR(optimizer, step_size=5, gamma=0.1)\n",
        "\n",
        "#optimizer = optim.RMSprop(model.parameters(), lr=0.001, alpha=0.9)\n",
        "#scheduler = optim.lr_scheduler.StepLR(optimizer, step_size=5, gamma=0.1)\n",
        "\n",
        "\n",
        "nn_classifier = NeuralNetworkClassifier(\n",
        "    model=model_nn,\n",
        "    optimizer=optimizer,\n",
        "    criterion=criterion,\n",
        "    epochs=10\n",
        ")\n",
        "\n",
        "nn_classifier.fit(X_train_scaled, y_train)"
      ]
    },
    {
      "cell_type": "code",
      "execution_count": 5,
      "metadata": {
        "colab": {
          "base_uri": "https://localhost:8080/",
          "height": 248
        },
        "id": "U9cxc3BgLEb7",
        "outputId": "c061c7f1-9c99-4dbc-fa23-76cf32e00290"
      },
      "outputs": [
        {
          "data": {
            "text/html": [
              "<style>#sk-container-id-1 {color: black;background-color: white;}#sk-container-id-1 pre{padding: 0;}#sk-container-id-1 div.sk-toggleable {background-color: white;}#sk-container-id-1 label.sk-toggleable__label {cursor: pointer;display: block;width: 100%;margin-bottom: 0;padding: 0.3em;box-sizing: border-box;text-align: center;}#sk-container-id-1 label.sk-toggleable__label-arrow:before {content: \"▸\";float: left;margin-right: 0.25em;color: #696969;}#sk-container-id-1 label.sk-toggleable__label-arrow:hover:before {color: black;}#sk-container-id-1 div.sk-estimator:hover label.sk-toggleable__label-arrow:before {color: black;}#sk-container-id-1 div.sk-toggleable__content {max-height: 0;max-width: 0;overflow: hidden;text-align: left;background-color: #f0f8ff;}#sk-container-id-1 div.sk-toggleable__content pre {margin: 0.2em;color: black;border-radius: 0.25em;background-color: #f0f8ff;}#sk-container-id-1 input.sk-toggleable__control:checked~div.sk-toggleable__content {max-height: 200px;max-width: 100%;overflow: auto;}#sk-container-id-1 input.sk-toggleable__control:checked~label.sk-toggleable__label-arrow:before {content: \"▾\";}#sk-container-id-1 div.sk-estimator input.sk-toggleable__control:checked~label.sk-toggleable__label {background-color: #d4ebff;}#sk-container-id-1 div.sk-label input.sk-toggleable__control:checked~label.sk-toggleable__label {background-color: #d4ebff;}#sk-container-id-1 input.sk-hidden--visually {border: 0;clip: rect(1px 1px 1px 1px);clip: rect(1px, 1px, 1px, 1px);height: 1px;margin: -1px;overflow: hidden;padding: 0;position: absolute;width: 1px;}#sk-container-id-1 div.sk-estimator {font-family: monospace;background-color: #f0f8ff;border: 1px dotted black;border-radius: 0.25em;box-sizing: border-box;margin-bottom: 0.5em;}#sk-container-id-1 div.sk-estimator:hover {background-color: #d4ebff;}#sk-container-id-1 div.sk-parallel-item::after {content: \"\";width: 100%;border-bottom: 1px solid gray;flex-grow: 1;}#sk-container-id-1 div.sk-label:hover label.sk-toggleable__label {background-color: #d4ebff;}#sk-container-id-1 div.sk-serial::before {content: \"\";position: absolute;border-left: 1px solid gray;box-sizing: border-box;top: 0;bottom: 0;left: 50%;z-index: 0;}#sk-container-id-1 div.sk-serial {display: flex;flex-direction: column;align-items: center;background-color: white;padding-right: 0.2em;padding-left: 0.2em;position: relative;}#sk-container-id-1 div.sk-item {position: relative;z-index: 1;}#sk-container-id-1 div.sk-parallel {display: flex;align-items: stretch;justify-content: center;background-color: white;position: relative;}#sk-container-id-1 div.sk-item::before, #sk-container-id-1 div.sk-parallel-item::before {content: \"\";position: absolute;border-left: 1px solid gray;box-sizing: border-box;top: 0;bottom: 0;left: 50%;z-index: -1;}#sk-container-id-1 div.sk-parallel-item {display: flex;flex-direction: column;z-index: 1;position: relative;background-color: white;}#sk-container-id-1 div.sk-parallel-item:first-child::after {align-self: flex-end;width: 50%;}#sk-container-id-1 div.sk-parallel-item:last-child::after {align-self: flex-start;width: 50%;}#sk-container-id-1 div.sk-parallel-item:only-child::after {width: 0;}#sk-container-id-1 div.sk-dashed-wrapped {border: 1px dashed gray;margin: 0 0.4em 0.5em 0.4em;box-sizing: border-box;padding-bottom: 0.4em;background-color: white;}#sk-container-id-1 div.sk-label label {font-family: monospace;font-weight: bold;display: inline-block;line-height: 1.2em;}#sk-container-id-1 div.sk-label-container {text-align: center;}#sk-container-id-1 div.sk-container {/* jupyter's `normalize.less` sets `[hidden] { display: none; }` but bootstrap.min.css set `[hidden] { display: none !important; }` so we also need the `!important` here to be able to override the default hidden behavior on the sphinx rendered scikit-learn.org. See: https://github.com/scikit-learn/scikit-learn/issues/21755 */display: inline-block !important;position: relative;}#sk-container-id-1 div.sk-text-repr-fallback {display: none;}</style><div id=\"sk-container-id-1\" class=\"sk-top-container\"><div class=\"sk-text-repr-fallback\"><pre>XGBClassifier(base_score=None, booster=None, callbacks=None,\n",
              "              colsample_bylevel=None, colsample_bynode=None,\n",
              "              colsample_bytree=None, early_stopping_rounds=None,\n",
              "              enable_categorical=False, eval_metric=None, feature_types=None,\n",
              "              gamma=None, gpu_id=None, grow_policy=None, importance_type=None,\n",
              "              interaction_constraints=None, learning_rate=None, max_bin=None,\n",
              "              max_cat_threshold=None, max_cat_to_onehot=None,\n",
              "              max_delta_step=None, max_depth=12, max_leaves=None,\n",
              "              min_child_weight=None, missing=nan, monotone_constraints=None,\n",
              "              n_estimators=77, n_jobs=None, num_parallel_tree=None,\n",
              "              predictor=None, random_state=None, ...)</pre><b>In a Jupyter environment, please rerun this cell to show the HTML representation or trust the notebook. <br />On GitHub, the HTML representation is unable to render, please try loading this page with nbviewer.org.</b></div><div class=\"sk-container\" hidden><div class=\"sk-item\"><div class=\"sk-estimator sk-toggleable\"><input class=\"sk-toggleable__control sk-hidden--visually\" id=\"sk-estimator-id-1\" type=\"checkbox\" checked><label for=\"sk-estimator-id-1\" class=\"sk-toggleable__label sk-toggleable__label-arrow\">XGBClassifier</label><div class=\"sk-toggleable__content\"><pre>XGBClassifier(base_score=None, booster=None, callbacks=None,\n",
              "              colsample_bylevel=None, colsample_bynode=None,\n",
              "              colsample_bytree=None, early_stopping_rounds=None,\n",
              "              enable_categorical=False, eval_metric=None, feature_types=None,\n",
              "              gamma=None, gpu_id=None, grow_policy=None, importance_type=None,\n",
              "              interaction_constraints=None, learning_rate=None, max_bin=None,\n",
              "              max_cat_threshold=None, max_cat_to_onehot=None,\n",
              "              max_delta_step=None, max_depth=12, max_leaves=None,\n",
              "              min_child_weight=None, missing=nan, monotone_constraints=None,\n",
              "              n_estimators=77, n_jobs=None, num_parallel_tree=None,\n",
              "              predictor=None, random_state=None, ...)</pre></div></div></div></div></div>"
            ],
            "text/plain": [
              "XGBClassifier(base_score=None, booster=None, callbacks=None,\n",
              "              colsample_bylevel=None, colsample_bynode=None,\n",
              "              colsample_bytree=None, early_stopping_rounds=None,\n",
              "              enable_categorical=False, eval_metric=None, feature_types=None,\n",
              "              gamma=None, gpu_id=None, grow_policy=None, importance_type=None,\n",
              "              interaction_constraints=None, learning_rate=None, max_bin=None,\n",
              "              max_cat_threshold=None, max_cat_to_onehot=None,\n",
              "              max_delta_step=None, max_depth=12, max_leaves=None,\n",
              "              min_child_weight=None, missing=nan, monotone_constraints=None,\n",
              "              n_estimators=77, n_jobs=None, num_parallel_tree=None,\n",
              "              predictor=None, random_state=None, ...)"
            ]
          },
          "execution_count": 5,
          "metadata": {},
          "output_type": "execute_result"
        }
      ],
      "source": [
        "#XGBoost classifier model -\n",
        "\n",
        "from xgboost import XGBClassifier\n",
        "from scipy.stats import randint\n",
        "\n",
        "y_train_mapped = y_train\n",
        "\n",
        "'''param_dist = {'n_estimators': randint(50, 500), 'max_depth': randint(1, 20)}\n",
        "\n",
        "model_xgb = XGBClassifier()\n",
        "\n",
        "rand_search = RandomizedSearchCV(model_xgb,\n",
        "                                      param_distributions=param_dist,\n",
        "                                      n_iter=10,\n",
        "                                      cv=5,\n",
        "                                      n_jobs=-1)  # Use -1 for parallel processing\n",
        "\n",
        "rand_search.fit(X_train_scaled, y_train_mapped)\n",
        "\n",
        "model_xgb = rand_search.best_estimator_\n",
        "print(\"Best Hyperparameters:\", rand_search.best_params_)'''\n",
        "\n",
        "model_xgb = XGBClassifier(max_depth=12, n_estimators=77)\n",
        "model_xgb.fit(X_train_scaled, y_train_mapped)\n",
        "\n",
        "\n"
      ]
    },
    {
      "cell_type": "code",
      "execution_count": 6,
      "metadata": {
        "colab": {
          "base_uri": "https://localhost:8080/",
          "height": 74
        },
        "id": "xCFxT3WOLEYc",
        "outputId": "eb40c4c9-17df-4d60-e1a7-8ae1874affb5"
      },
      "outputs": [
        {
          "data": {
            "text/html": [
              "<style>#sk-container-id-2 {color: black;background-color: white;}#sk-container-id-2 pre{padding: 0;}#sk-container-id-2 div.sk-toggleable {background-color: white;}#sk-container-id-2 label.sk-toggleable__label {cursor: pointer;display: block;width: 100%;margin-bottom: 0;padding: 0.3em;box-sizing: border-box;text-align: center;}#sk-container-id-2 label.sk-toggleable__label-arrow:before {content: \"▸\";float: left;margin-right: 0.25em;color: #696969;}#sk-container-id-2 label.sk-toggleable__label-arrow:hover:before {color: black;}#sk-container-id-2 div.sk-estimator:hover label.sk-toggleable__label-arrow:before {color: black;}#sk-container-id-2 div.sk-toggleable__content {max-height: 0;max-width: 0;overflow: hidden;text-align: left;background-color: #f0f8ff;}#sk-container-id-2 div.sk-toggleable__content pre {margin: 0.2em;color: black;border-radius: 0.25em;background-color: #f0f8ff;}#sk-container-id-2 input.sk-toggleable__control:checked~div.sk-toggleable__content {max-height: 200px;max-width: 100%;overflow: auto;}#sk-container-id-2 input.sk-toggleable__control:checked~label.sk-toggleable__label-arrow:before {content: \"▾\";}#sk-container-id-2 div.sk-estimator input.sk-toggleable__control:checked~label.sk-toggleable__label {background-color: #d4ebff;}#sk-container-id-2 div.sk-label input.sk-toggleable__control:checked~label.sk-toggleable__label {background-color: #d4ebff;}#sk-container-id-2 input.sk-hidden--visually {border: 0;clip: rect(1px 1px 1px 1px);clip: rect(1px, 1px, 1px, 1px);height: 1px;margin: -1px;overflow: hidden;padding: 0;position: absolute;width: 1px;}#sk-container-id-2 div.sk-estimator {font-family: monospace;background-color: #f0f8ff;border: 1px dotted black;border-radius: 0.25em;box-sizing: border-box;margin-bottom: 0.5em;}#sk-container-id-2 div.sk-estimator:hover {background-color: #d4ebff;}#sk-container-id-2 div.sk-parallel-item::after {content: \"\";width: 100%;border-bottom: 1px solid gray;flex-grow: 1;}#sk-container-id-2 div.sk-label:hover label.sk-toggleable__label {background-color: #d4ebff;}#sk-container-id-2 div.sk-serial::before {content: \"\";position: absolute;border-left: 1px solid gray;box-sizing: border-box;top: 0;bottom: 0;left: 50%;z-index: 0;}#sk-container-id-2 div.sk-serial {display: flex;flex-direction: column;align-items: center;background-color: white;padding-right: 0.2em;padding-left: 0.2em;position: relative;}#sk-container-id-2 div.sk-item {position: relative;z-index: 1;}#sk-container-id-2 div.sk-parallel {display: flex;align-items: stretch;justify-content: center;background-color: white;position: relative;}#sk-container-id-2 div.sk-item::before, #sk-container-id-2 div.sk-parallel-item::before {content: \"\";position: absolute;border-left: 1px solid gray;box-sizing: border-box;top: 0;bottom: 0;left: 50%;z-index: -1;}#sk-container-id-2 div.sk-parallel-item {display: flex;flex-direction: column;z-index: 1;position: relative;background-color: white;}#sk-container-id-2 div.sk-parallel-item:first-child::after {align-self: flex-end;width: 50%;}#sk-container-id-2 div.sk-parallel-item:last-child::after {align-self: flex-start;width: 50%;}#sk-container-id-2 div.sk-parallel-item:only-child::after {width: 0;}#sk-container-id-2 div.sk-dashed-wrapped {border: 1px dashed gray;margin: 0 0.4em 0.5em 0.4em;box-sizing: border-box;padding-bottom: 0.4em;background-color: white;}#sk-container-id-2 div.sk-label label {font-family: monospace;font-weight: bold;display: inline-block;line-height: 1.2em;}#sk-container-id-2 div.sk-label-container {text-align: center;}#sk-container-id-2 div.sk-container {/* jupyter's `normalize.less` sets `[hidden] { display: none; }` but bootstrap.min.css set `[hidden] { display: none !important; }` so we also need the `!important` here to be able to override the default hidden behavior on the sphinx rendered scikit-learn.org. See: https://github.com/scikit-learn/scikit-learn/issues/21755 */display: inline-block !important;position: relative;}#sk-container-id-2 div.sk-text-repr-fallback {display: none;}</style><div id=\"sk-container-id-2\" class=\"sk-top-container\"><div class=\"sk-text-repr-fallback\"><pre>RandomForestClassifier(max_depth=19, n_estimators=246)</pre><b>In a Jupyter environment, please rerun this cell to show the HTML representation or trust the notebook. <br />On GitHub, the HTML representation is unable to render, please try loading this page with nbviewer.org.</b></div><div class=\"sk-container\" hidden><div class=\"sk-item\"><div class=\"sk-estimator sk-toggleable\"><input class=\"sk-toggleable__control sk-hidden--visually\" id=\"sk-estimator-id-2\" type=\"checkbox\" checked><label for=\"sk-estimator-id-2\" class=\"sk-toggleable__label sk-toggleable__label-arrow\">RandomForestClassifier</label><div class=\"sk-toggleable__content\"><pre>RandomForestClassifier(max_depth=19, n_estimators=246)</pre></div></div></div></div></div>"
            ],
            "text/plain": [
              "RandomForestClassifier(max_depth=19, n_estimators=246)"
            ]
          },
          "execution_count": 6,
          "metadata": {},
          "output_type": "execute_result"
        }
      ],
      "source": [
        "#Random Forest model -\n",
        "\n",
        "# Modelling\n",
        "from sklearn.ensemble import RandomForestClassifier\n",
        "\n",
        "\n",
        "'''param_dist = {'n_estimators': randint(50, 500), 'max_depth': randint(1, 20)}\n",
        "\n",
        "model_rf = RandomForestClassifier()\n",
        "\n",
        "rand_search = RandomizedSearchCV(model_rf,\n",
        "                                      param_distributions=param_dist,\n",
        "                                      n_iter=10,\n",
        "                                      cv=5,\n",
        "                                      n_jobs=-1)  # Use -1 for parallel processing\n",
        "\n",
        "rand_search.fit(X_train_scaled, y_train)\n",
        "\n",
        "model_rf = rand_search.best_estimator_\n",
        "\n",
        "print(\"Best Hyperparameters:\", rand_search.best_params_)'''\n",
        "\n",
        "\n",
        "model_rf = RandomForestClassifier(max_depth=19, n_estimators=246)\n",
        "\n",
        "model_rf.fit(X_train_scaled, y_train)\n",
        "\n",
        "\n",
        "\n",
        "\n"
      ]
    },
    {
      "cell_type": "code",
      "execution_count": 7,
      "metadata": {
        "colab": {
          "base_uri": "https://localhost:8080/",
          "height": 90
        },
        "id": "9rw0HX3aLEV5",
        "outputId": "4c5a0005-f19c-4e3c-b524-9eb70b444b6b"
      },
      "outputs": [
        {
          "data": {
            "text/plain": [
              "'from sklearn.ensemble import VotingClassifier\\n\\n# Ensemble Model\\nensemble_model = VotingClassifier(\\n    estimators=[\\n        (\\'xgboost\\', model_xgb),\\n        (\\'random_forest\\', model_rf),\\n        (\\'neural_network\\', nn_classifier)\\n    ],\\n    voting=\\'soft\\'  # Use \\'soft\\' for weighted voting based on probabilities\\n)\\n\\n# Train the ensemble model\\nensemble_model.fit(X_train_scaled, y_train)\\n\\nensemble_preds = ensemble_model.predict(X_test_scaled)\\n\\n# Evaluate the ensemble model\\nensemble_accuracy = accuracy_score(y_test, ensemble_preds)\\nprint(\"Ensemble Model Accuracy: %.2f%%\" % (ensemble_accuracy * 100))'"
            ]
          },
          "execution_count": 7,
          "metadata": {},
          "output_type": "execute_result"
        }
      ],
      "source": [
        "'''from sklearn.ensemble import VotingClassifier\n",
        "\n",
        "# Ensemble Model\n",
        "ensemble_model = VotingClassifier(\n",
        "    estimators=[\n",
        "        ('xgboost', model_xgb),\n",
        "        ('random_forest', model_rf),\n",
        "        ('neural_network', nn_classifier)\n",
        "    ],\n",
        "    voting='soft'  # Use 'soft' for weighted voting based on probabilities\n",
        ")\n",
        "\n",
        "# Train the ensemble model\n",
        "ensemble_model.fit(X_train_scaled, y_train)\n",
        "\n",
        "ensemble_preds = ensemble_model.predict(X_test_scaled)\n",
        "\n",
        "# Evaluate the ensemble model\n",
        "ensemble_accuracy = accuracy_score(y_test, ensemble_preds)\n",
        "print(\"Ensemble Model Accuracy: %.2f%%\" % (ensemble_accuracy * 100))'''"
      ]
    },
    {
      "cell_type": "code",
      "execution_count": 8,
      "metadata": {
        "colab": {
          "base_uri": "https://localhost:8080/",
          "height": 36
        },
        "id": "fTcWi_XHc-jD",
        "outputId": "01564490-7d7f-456b-a835-20e3406f6c36"
      },
      "outputs": [
        {
          "data": {
            "text/plain": [
              "\"result = pd.DataFrame({'Actual': y_test, 'Ensemble Predictions': ensemble_preds})\\ndisplay(result)\""
            ]
          },
          "execution_count": 8,
          "metadata": {},
          "output_type": "execute_result"
        }
      ],
      "source": [
        "'''result = pd.DataFrame({'Actual': y_test, 'Ensemble Predictions': ensemble_preds})\n",
        "display(result)'''"
      ]
    },
    {
      "cell_type": "code",
      "execution_count": 9,
      "metadata": {
        "colab": {
          "base_uri": "https://localhost:8080/",
          "height": 36
        },
        "id": "GVXb7AkmdbLm",
        "outputId": "ce12d98a-6e9e-4288-9c0b-5ee05185a212"
      },
      "outputs": [
        {
          "data": {
            "text/plain": [
              "\"c=0\\nfor i,j in zip(result['Actual'].values,result['Ensemble Predictions'].values):\\n  if i!=j:\\n    c=c+1\\n\\nprint(c)\""
            ]
          },
          "execution_count": 9,
          "metadata": {},
          "output_type": "execute_result"
        }
      ],
      "source": [
        "'''c=0\n",
        "for i,j in zip(result['Actual'].values,result['Ensemble Predictions'].values):\n",
        "  if i!=j:\n",
        "    c=c+1\n",
        "\n",
        "print(c)'''"
      ]
    },
    {
      "cell_type": "code",
      "execution_count": 10,
      "metadata": {
        "colab": {
          "base_uri": "https://localhost:8080/"
        },
        "id": "L1qiZavKHJtt",
        "outputId": "c490e752-eaed-4938-a750-35d7e0ee861c"
      },
      "outputs": [
        {
          "name": "stdout",
          "output_type": "stream",
          "text": [
            "Ensemble Model Train Accuracy: 0.9758587797496379\n",
            "Ensemble Model Test Accuracy: 0.9483749411210551\n"
          ]
        }
      ],
      "source": [
        "from sklearn.ensemble import VotingClassifier\n",
        "\n",
        "# Step 1: Create Predictions\n",
        "nn_predictions_train = nn_classifier.predict(X_train_scaled)\n",
        "nn_predictions_test = nn_classifier.predict(X_test_scaled)\n",
        "\n",
        "xgb_predictions_train = model_xgb.predict(X_train_scaled)\n",
        "xgb_predictions_test = model_xgb.predict(X_test_scaled)\n",
        "\n",
        "rf_predictions_train = model_rf.predict(X_train_scaled)\n",
        "rf_predictions_test = model_rf.predict(X_test_scaled)\n",
        "\n",
        "# Step 2: Combine Predictions\n",
        "# Create a DataFrame to store predictions\n",
        "combined_predictions_train = pd.DataFrame({\n",
        "    'Neural_Network': nn_predictions_train,\n",
        "    'XGBoost': xgb_predictions_train,\n",
        "    'Random_Forest': rf_predictions_train\n",
        "})\n",
        "\n",
        "combined_predictions_test = pd.DataFrame({\n",
        "    'Neural_Network': nn_predictions_test,\n",
        "    'XGBoost': xgb_predictions_test,\n",
        "    'Random_Forest': rf_predictions_test\n",
        "})\n",
        "\n",
        "# Step 3: Ensemble Model\n",
        "# Create a voting classifier\n",
        "ensemble_classifier = VotingClassifier(\n",
        "    estimators=[('Neural_Network', nn_classifier), ('XGBoost', model_xgb), ('Random_Forest', model_rf)],\n",
        "    voting='hard'  # You can choose 'soft' for soft voting if you want probabilities, 'hard' for mode\n",
        ")\n",
        "\n",
        "# Fit the ensemble model\n",
        "ensemble_classifier.fit(X_train_scaled, y_train)\n",
        "\n",
        "# Make predictions using the ensemble model\n",
        "ensemble_predictions_train = ensemble_classifier.predict(X_train_scaled)\n",
        "ensemble_predictions_test = ensemble_classifier.predict(X_test_scaled)\n",
        "\n",
        "# Evaluate the ensemble model\n",
        "ensemble_accuracy_train = accuracy_score(y_train, ensemble_predictions_train)\n",
        "ensemble_accuracy_test = accuracy_score(y_test, ensemble_predictions_test)\n",
        "\n",
        "print(\"Ensemble Model Train Accuracy:\", ensemble_accuracy_train)\n",
        "print(\"Ensemble Model Test Accuracy:\", ensemble_accuracy_test)\n"
      ]
    },
    {
      "cell_type": "code",
      "execution_count": 23,
      "metadata": {},
      "outputs": [
        {
          "name": "stdout",
          "output_type": "stream",
          "text": [
            "Ensemble Model Train Accuracy: 0.9747518164796213\n",
            "Ensemble Model Test Accuracy: 0.9490814884597268\n"
          ]
        }
      ],
      "source": [
        "'''#For soft voting - \n",
        "\n",
        "ensemble_classifier = VotingClassifier(\n",
        "    estimators=[('Neural_Network', nn_classifier), ('XGBoost', model_xgb), ('Random_Forest', model_rf)],\n",
        "    voting='soft'  # You can choose 'soft' for soft voting if you want probabilities, 'hard' for mode\n",
        ")\n",
        "\n",
        "# Fit the ensemble model\n",
        "ensemble_classifier.fit(X_train_scaled, y_train)\n",
        "\n",
        "# Make predictions using the ensemble model\n",
        "ensemble_predictions_train = ensemble_classifier.predict(X_train_scaled)\n",
        "ensemble_predictions_test = ensemble_classifier.predict(X_test_scaled)\n",
        "\n",
        "# Evaluate the ensemble model\n",
        "ensemble_accuracy_train = accuracy_score(y_train, ensemble_predictions_train)\n",
        "ensemble_accuracy_test = accuracy_score(y_test, ensemble_predictions_test)\n",
        "\n",
        "print(\"Ensemble Model Train Accuracy:\", ensemble_accuracy_train)\n",
        "print(\"Ensemble Model Test Accuracy:\", ensemble_accuracy_test)'''"
      ]
    },
    {
      "cell_type": "code",
      "execution_count": 27,
      "metadata": {},
      "outputs": [
        {
          "data": {
            "image/png": "[encoded data removed]",
            "text/plain": [
              "<Figure size 1000x600 with 1 Axes>"
            ]
          },
          "metadata": {},
          "output_type": "display_data"
        }
      ],
      "source": [
        "'''import matplotlib.pyplot as plt\n",
        "\n",
        "# Sample data - replace this with your actual data\n",
        "model_names = ['Artificial Neural Network (ANN)', 'Random Forest', 'XGBoost', 'Ensemble Model']\n",
        "accuracies = [nn_accuracy_test, rf_accuracy_test, xgb_accuracy_test, ensemble_accuracy_test]\n",
        "\n",
        "# Create the plot\n",
        "plt.figure(figsize=(10, 6))\n",
        "bars = plt.bar(model_names, accuracies, color='blue')\n",
        "\n",
        "# Add labels and title\n",
        "plt.xlabel('Model Names')\n",
        "plt.ylabel('Accuracy')\n",
        "plt.title('Model Accuracies using Soft Voting')\n",
        "\n",
        "# Rotate x-axis labels for better readability (optional)\n",
        "plt.xticks(rotation=45, ha='right')\n",
        "\n",
        "for bar, accuracy in zip(bars, accuracies):\n",
        "    plt.text(bar.get_x() + bar.get_width() / 2, bar.get_height(),\n",
        "             f'{accuracy:.4f}', ha='center', va='bottom')\n",
        "    \n",
        "# Display the plot\n",
        "plt.tight_layout()\n",
        "plt.savefig('model_accuracies_SoftVoting.jpeg')\n",
        "plt.show()\n",
        "\n",
        "'''"
      ]
    },
    {
      "cell_type": "code",
      "execution_count": 24,
      "metadata": {},
      "outputs": [
        {
          "name": "stdout",
          "output_type": "stream",
          "text": [
            "Neural Network Model Test Accuracy: 0.9084785680640602\n",
            "\n",
            "XGBoost Model Test Accuracy: 0.9478568064060292\n",
            "\n",
            "Random Forest Model Test Accuracy: 0.9479510127178521\n"
          ]
        }
      ],
      "source": [
        "nn_accuracy_train = accuracy_score(y_train, nn_predictions_train)\n",
        "nn_accuracy_test = accuracy_score(y_test, nn_predictions_test)\n",
        "\n",
        "#print(\"Neural Network Model Train Accuracy:\", nn_accuracy_train)\n",
        "print(\"Neural Network Model Test Accuracy:\", nn_accuracy_test)\n",
        "\n",
        "xgb_accuracy_train = accuracy_score(y_train, xgb_predictions_train)\n",
        "xgb_accuracy_test = accuracy_score(y_test, xgb_predictions_test)\n",
        "\n",
        "#print(\"XGBoost Model Train Accuracy:\", xgb_accuracy_train)\n",
        "print(\"\\nXGBoost Model Test Accuracy:\", xgb_accuracy_test)\n",
        "\n",
        "rf_accuracy_train = accuracy_score(y_train, rf_predictions_train)\n",
        "rf_accuracy_test = accuracy_score(y_test, rf_predictions_test)\n",
        "\n",
        "#print(\"Random Forest Model Train Accuracy:\", rf_accuracy_train)\n",
        "print(\"\\nRandom Forest Model Test Accuracy:\", rf_accuracy_test)"
      ]
    },
    {
      "cell_type": "code",
      "execution_count": 12,
      "metadata": {},
      "outputs": [
        {
          "name": "stdout",
          "output_type": "stream",
          "text": [
            "Neural Network Model - \n",
            "Precision: 0.9065700162144273\n",
            "Recall: 0.9084785680640602\n",
            "F1-score: 0.9072491466853377\n",
            "XGBoost Model - \n",
            "Precision: 0.9472032096355149\n",
            "Recall: 0.9478568064060292\n",
            "F1-score: 0.9466263792178711\n",
            "Random Forest Model - \n",
            "Precision: 0.947337776682757\n",
            "Recall: 0.9479510127178521\n",
            "F1-score: 0.9466821210634048\n",
            "Ensemble Model - \n",
            "Precision: 0.9479059354216699\n",
            "Recall: 0.9483749411210551\n",
            "F1-score: 0.9470017481951121\n"
          ]
        }
      ],
      "source": [
        "from sklearn.metrics import precision_score, recall_score, f1_score\n",
        "\n",
        "precision = precision_score(y_test, nn_predictions_test, average='weighted')\n",
        "recall = recall_score(y_test, nn_predictions_test, average='weighted')\n",
        "f1 = f1_score(y_test, nn_predictions_test, average='weighted')\n",
        "\n",
        "print(\"Neural Network Model - \")\n",
        "print(\"Precision:\", precision)\n",
        "print(\"Recall:\", recall)\n",
        "print(\"F1-score:\", f1)\n",
        "\n",
        "##############\n",
        "\n",
        "precision = precision_score(y_test, xgb_predictions_test, average='weighted')\n",
        "recall = recall_score(y_test, xgb_predictions_test, average='weighted')\n",
        "f1 = f1_score(y_test, xgb_predictions_test, average='weighted')\n",
        "\n",
        "print(\"XGBoost Model - \")\n",
        "print(\"Precision:\", precision)\n",
        "print(\"Recall:\", recall)\n",
        "print(\"F1-score:\", f1)\n",
        "\n",
        "################\n",
        "\n",
        "precision = precision_score(y_test, rf_predictions_test, average='weighted')\n",
        "recall = recall_score(y_test, rf_predictions_test, average='weighted')\n",
        "f1 = f1_score(y_test, rf_predictions_test, average='weighted')\n",
        "\n",
        "print(\"Random Forest Model - \")\n",
        "print(\"Precision:\", precision)\n",
        "print(\"Recall:\", recall)\n",
        "print(\"F1-score:\", f1)\n",
        "\n",
        "#################\n",
        "\n",
        "precision = precision_score(y_test, ensemble_predictions_test, average='weighted')\n",
        "recall = recall_score(y_test, ensemble_predictions_test, average='weighted')\n",
        "f1 = f1_score(y_test, ensemble_predictions_test, average='weighted')\n",
        "\n",
        "print(\"Ensemble Model - \")\n",
        "print(\"Precision:\", precision)\n",
        "print(\"Recall:\", recall)\n",
        "print(\"F1-score:\", f1)\n"
      ]
    },
    {
      "cell_type": "code",
      "execution_count": 19,
      "metadata": {},
      "outputs": [
        {
          "name": "stdout",
          "output_type": "stream",
          "text": [
            "Classification Report for Neural Network Model:\n",
            "              precision    recall  f1-score   support\n",
            "\n",
            "           0       0.93      0.95      0.94     16762\n",
            "           1       0.80      0.75      0.77      4468\n",
            "\n",
            "    accuracy                           0.91     21230\n",
            "   macro avg       0.87      0.85      0.86     21230\n",
            "weighted avg       0.91      0.91      0.91     21230\n",
            "\n"
          ]
        }
      ],
      "source": [
        "report = classification_report(y_test, nn_predictions_test)\n",
        "\n",
        "# Print the classification report\n",
        "print(\"Classification Report for Neural Network Model:\")\n",
        "print(report)\n"
      ]
    },
    {
      "cell_type": "code",
      "execution_count": 22,
      "metadata": {},
      "outputs": [
        {
          "name": "stdout",
          "output_type": "stream",
          "text": [
            "Classification Report for XGBoost Model:\n",
            "              precision    recall  f1-score   support\n",
            "\n",
            "           0       0.95      0.98      0.97     16762\n",
            "           1       0.93      0.82      0.87      4468\n",
            "\n",
            "    accuracy                           0.95     21230\n",
            "   macro avg       0.94      0.90      0.92     21230\n",
            "weighted avg       0.95      0.95      0.95     21230\n",
            "\n"
          ]
        }
      ],
      "source": [
        "report = classification_report(y_test, xgb_predictions_test)\n",
        "\n",
        "# Print the classification report\n",
        "print(\"Classification Report for XGBoost Model:\")\n",
        "print(report)\n"
      ]
    },
    {
      "cell_type": "code",
      "execution_count": 21,
      "metadata": {},
      "outputs": [
        {
          "name": "stdout",
          "output_type": "stream",
          "text": [
            "Classification Report for Random Forest Model:\n",
            "              precision    recall  f1-score   support\n",
            "\n",
            "           0       0.95      0.98      0.97     16762\n",
            "           1       0.93      0.82      0.87      4468\n",
            "\n",
            "    accuracy                           0.95     21230\n",
            "   macro avg       0.94      0.90      0.92     21230\n",
            "weighted avg       0.95      0.95      0.95     21230\n",
            "\n"
          ]
        }
      ],
      "source": [
        "report = classification_report(y_test, rf_predictions_test)\n",
        "\n",
        "# Print the classification report\n",
        "print(\"Classification Report for Random Forest Model:\")\n",
        "print(report)\n"
      ]
    },
    {
      "cell_type": "code",
      "execution_count": 18,
      "metadata": {},
      "outputs": [
        {
          "name": "stdout",
          "output_type": "stream",
          "text": [
            "Classification Report for Ensemble Model:\n",
            "              precision    recall  f1-score   support\n",
            "\n",
            "           0       0.95      0.98      0.97     16762\n",
            "           1       0.93      0.81      0.87      4468\n",
            "\n",
            "    accuracy                           0.95     21230\n",
            "   macro avg       0.94      0.90      0.92     21230\n",
            "weighted avg       0.95      0.95      0.95     21230\n",
            "\n"
          ]
        }
      ],
      "source": [
        "report = classification_report(y_test, ensemble_predictions_test)\n",
        "\n",
        "# Print the classification report\n",
        "print(\"Classification Report for Ensemble Model:\")\n",
        "print(report)\n"
      ]
    },
    {
      "cell_type": "code",
      "execution_count": 13,
      "metadata": {},
      "outputs": [
        {
          "data": {
            "image/png": "[encoded data removed]",
            "text/plain": [
              "<Figure size 1000x600 with 1 Axes>"
            ]
          },
          "metadata": {},
          "output_type": "display_data"
        }
      ],
      "source": [
        "import matplotlib.pyplot as plt\n",
        "\n",
        "# Sample data - replace this with your actual data\n",
        "model_names = ['Artificial Neural Network (ANN)', 'Random Forest', 'XGBoost', 'Ensemble Model']\n",
        "accuracies = [nn_accuracy_test, rf_accuracy_test, xgb_accuracy_test, ensemble_accuracy_test]\n",
        "\n",
        "# Create the plot\n",
        "plt.figure(figsize=(10, 6))\n",
        "bars = plt.bar(model_names, accuracies, color='blue')\n",
        "\n",
        "# Add labels and title\n",
        "plt.xlabel('Model Names')\n",
        "plt.ylabel('Accuracy')\n",
        "plt.title('Model Accuracies using Hard Voting')\n",
        "\n",
        "# Rotate x-axis labels for better readability (optional)\n",
        "plt.xticks(rotation=45, ha='right')\n",
        "\n",
        "for bar, accuracy in zip(bars, accuracies):\n",
        "    plt.text(bar.get_x() + bar.get_width() / 2, bar.get_height(),\n",
        "             f'{accuracy:.4f}', ha='center', va='bottom')\n",
        "    \n",
        "# Display the plot\n",
        "plt.tight_layout()\n",
        "plt.savefig('model_accuracies_temp.jpeg')\n",
        "plt.show()\n",
        "\n"
      ]
    },
    {
      "cell_type": "code",
      "execution_count": 14,
      "metadata": {
        "colab": {
          "base_uri": "https://localhost:8080/"
        },
        "id": "_CwaUUvOHsyq",
        "outputId": "27c0654f-274f-4c28-be8b-d7bf34245cd1"
      },
      "outputs": [
        {
          "name": "stdout",
          "output_type": "stream",
          "text": [
            "Predicted labels for new data: [1]\n"
          ]
        },
        {
          "name": "stderr",
          "output_type": "stream",
          "text": [
            "c:\\Users\\prana\\AppData\\Local\\Programs\\Python\\Python310\\lib\\site-packages\\sklearn\\base.py:439: UserWarning: X does not have valid feature names, but StandardScaler was fitted with feature names\n",
            "  warnings.warn(\n",
            "c:\\Users\\prana\\AppData\\Local\\Programs\\Python\\Python310\\lib\\site-packages\\sklearn\\base.py:432: UserWarning: X has feature names, but RandomForestClassifier was fitted without feature names\n",
            "  warnings.warn(\n"
          ]
        }
      ],
      "source": [
        "new_data = pd.DataFrame({'Comfortable_speaking_about_A_or_D': [3],\n",
        "                         'Friends_Family_A_or_D': [1],\n",
        "                         'A_or_D_more_than_once': [1],\n",
        "                         'MH9A': [3],\n",
        "                         'MH9B': [3],\n",
        "                         'MH9C': [3],\n",
        "                         'MH9D': [3],\n",
        "                         'MH9E': [3],\n",
        "                         'MH9F': [3],\n",
        "                         'MH9G': [3],\n",
        "                         'MH9H': [3],\n",
        "                         'Age': [19],\n",
        "                         'age_var2': [1],\n",
        "                         'Gender': [2],\n",
        "                         'Household_Income': [1],\n",
        "                         'Subjective_Income': [4],\n",
        "                         'EMP_2010': [4]})\n",
        "\n",
        "new_data_tensor = torch.tensor(new_data.values, dtype=torch.float32)\n",
        "new_data_scaled = scaler.transform(new_data_tensor.numpy())\n",
        "new_data_scaled_tensor = torch.tensor(new_data_scaled, dtype=torch.float32)\n",
        "\n",
        "nn_classifier.model.eval()\n",
        "with torch.no_grad():\n",
        "    # Forward pass\n",
        "    nn_outputs = nn_classifier.model(new_data_scaled_tensor)\n",
        "    # Apply softmax to get probabilities\n",
        "    nn_probabilities = F.softmax(nn_outputs, dim=1)\n",
        "    # Get the predicted class\n",
        "    _, nn_predicted_class = torch.max(nn_probabilities, 1)\n",
        "\n",
        "xgb_predictions_new_data = model_xgb.predict(new_data)\n",
        "rf_predictions_new_data = model_rf.predict(new_data)\n",
        "\n",
        "ensemble_predictions_new_data = []\n",
        "for nn_pred, xgb_pred, rf_pred in zip(nn_predicted_class.numpy(), xgb_predictions_new_data, rf_predictions_new_data):\n",
        "    ensemble_predictions_new_data.append(np.argmax(np.bincount([nn_pred, xgb_pred, rf_pred])))\n",
        "\n",
        "# Now ensemble_predictions_new_data contains the predicted labels for the new data\n",
        "print(\"Predicted labels for new data:\", ensemble_predictions_new_data)\n",
        "\n",
        "\n"
      ]
    },
    {
      "cell_type": "code",
      "execution_count": 15,
      "metadata": {
        "colab": {
          "base_uri": "https://localhost:8080/"
        },
        "id": "4EWwDkSqIFYv",
        "outputId": "69380445-9c57-4364-8983-5f84af6886fa"
      },
      "outputs": [
        {
          "name": "stdout",
          "output_type": "stream",
          "text": [
            "Predicted labels for new data: [1]\n"
          ]
        },
        {
          "name": "stderr",
          "output_type": "stream",
          "text": [
            "c:\\Users\\prana\\AppData\\Local\\Programs\\Python\\Python310\\lib\\site-packages\\sklearn\\base.py:439: UserWarning: X does not have valid feature names, but StandardScaler was fitted with feature names\n",
            "  warnings.warn(\n",
            "c:\\Users\\prana\\AppData\\Local\\Programs\\Python\\Python310\\lib\\site-packages\\sklearn\\base.py:432: UserWarning: X has feature names, but RandomForestClassifier was fitted without feature names\n",
            "  warnings.warn(\n"
          ]
        }
      ],
      "source": [
        "new_data2 = pd.DataFrame({'Comfortable_speaking_about_A_or_D': [1],\n",
        "                         'Friends_Family_A_or_D': [1],\n",
        "                         'A_or_D_more_than_once': [1],\n",
        "                         'MH9A': [1],\n",
        "                         'MH9B': [1],\n",
        "                         'MH9C': [1],\n",
        "                         'MH9D': [3],\n",
        "                         'MH9E': [1],\n",
        "                         'MH9F': [2],\n",
        "                         'MH9G': [3],\n",
        "                         'MH9H': [2],\n",
        "                         'Age': [42],\n",
        "                         'age_var2': [2],\n",
        "                         'Gender': [1],\n",
        "                         'Household_Income': [5],\n",
        "                         'Subjective_Income': [2],\n",
        "                         'EMP_2010': [1]})\n",
        "\n",
        "new_data_tensor2 = torch.tensor(new_data2.values, dtype=torch.float32)\n",
        "new_data_scaled2 = scaler.transform(new_data_tensor2.numpy())\n",
        "new_data_scaled_tensor2 = torch.tensor(new_data_scaled2, dtype=torch.float32)\n",
        "\n",
        "nn_classifier.model.eval()\n",
        "with torch.no_grad():\n",
        "    # Forward pass\n",
        "    nn_outputs = nn_classifier.model(new_data_scaled_tensor2)\n",
        "    # Apply softmax to get probabilities\n",
        "    nn_probabilities = F.softmax(nn_outputs, dim=1)\n",
        "    # Get the predicted class\n",
        "    _, nn_predicted_class = torch.max(nn_probabilities, 1)\n",
        "\n",
        "xgb_predictions_new_data = model_xgb.predict(new_data2)\n",
        "rf_predictions_new_data = model_rf.predict(new_data2)\n",
        "\n",
        "ensemble_predictions_new_data = []\n",
        "for nn_pred, xgb_pred, rf_pred in zip(nn_predicted_class.numpy(), xgb_predictions_new_data, rf_predictions_new_data):\n",
        "    ensemble_predictions_new_data.append(np.argmax(np.bincount([nn_pred, xgb_pred, rf_pred])))\n",
        "\n",
        "# Now ensemble_predictions_new_data contains the predicted labels for the new data\n",
        "print(\"Predicted labels for new data:\", ensemble_predictions_new_data)"
      ]
    }
  ],
  "metadata": {
    "accelerator": "GPU",
    "colab": {
      "gpuType": "T4",
      "provenance": []
    },
    "kernelspec": {
      "display_name": "Python 3",
      "name": "python3"
    },
    "language_info": {
      "codemirror_mode": {
        "name": "ipython",
        "version": 3
      },
      "file_extension": ".py",
      "mimetype": "text/x-python",
      "name": "python",
      "nbconvert_exporter": "python",
      "pygments_lexer": "ipython3",
      "version": "3.10.0"
    }
  },
  "nbformat": 4,
  "nbformat_minor": 0
}
